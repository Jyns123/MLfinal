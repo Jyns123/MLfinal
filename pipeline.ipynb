{
 "cells": [
  {
   "cell_type": "code",
   "execution_count": 1,
   "id": "89fd1530",
   "metadata": {},
   "outputs": [],
   "source": [
    "import numpy as np\n",
    "import seaborn as sns\n",
    "from sklearn.model_selection import train_test_split\n",
    "from sklearn.preprocessing import LabelEncoder, StandardScaler\n",
    "from sklearn.metrics import classification_report, confusion_matrix, accuracy_score\n",
    "import pandas as pd\n",
    "\n",
    "import matplotlib.pyplot as plt"
   ]
  },
  {
   "cell_type": "code",
   "execution_count": 2,
   "id": "1cba85dc",
   "metadata": {},
   "outputs": [],
   "source": [
    "from IPython.display import HTML, display\n",
    "\n",
    "def display_html(df, index=False):\n",
    "    display(HTML(df.to_html(index=index)))\n"
   ]
  },
  {
   "cell_type": "code",
   "execution_count": 3,
   "id": "c66eaf06",
   "metadata": {},
   "outputs": [
    {
     "data": {
      "text/plain": [
       "'import kagglehub\\n\\n# Download latest version\\npath = kagglehub.dataset_download(\"parulpandey/emotion-dataset\")\\n\\nprint(\"Path to dataset files:\", path)'"
      ]
     },
     "execution_count": 3,
     "metadata": {},
     "output_type": "execute_result"
    }
   ],
   "source": [
    "'''import kagglehub\n",
    "\n",
    "# Download latest version\n",
    "path = kagglehub.dataset_download(\"parulpandey/emotion-dataset\")\n",
    "\n",
    "print(\"Path to dataset files:\", path)'''"
   ]
  },
  {
   "cell_type": "markdown",
   "id": "d6a593bc",
   "metadata": {},
   "source": [
    "## Exploración del dataset SMILE (Twitter Emotion Classification)\n",
    "\n",
    "- **Shape**: `(3085, 3)` &nbsp;→ El dataset contiene 3 085 tuits etiquetados manualmente con emociones.  \n",
    "- **Columnas**: `tweet_id`, `text`, `label`  \n",
    "- **Origen**: Interacciones en Twitter con museos británicos (2013–2015)\n",
    "\n",
    "### Distribución de etiquetas\n",
    "\n",
    "El dataset contiene tanto emociones básicas como etiquetas neutrales o irrelevantes.  \n",
    "Se listan a continuación las frecuencias de cada una:\n",
    "\n"
   ]
  },
  {
   "cell_type": "code",
   "execution_count": 4,
   "id": "6b599e0e",
   "metadata": {},
   "outputs": [
    {
     "name": "stdout",
     "output_type": "stream",
     "text": [
      "SMILE shape: (3085, 3)\n",
      "label\n",
      "nocode               1572\n",
      "happy                1137\n",
      "not-relevant          214\n",
      "angry                  57\n",
      "surprise               35\n",
      "sad                    32\n",
      "happy|surprise         11\n",
      "happy|sad               9\n",
      "disgust|angry           7\n",
      "disgust                 6\n",
      "sad|disgust             2\n",
      "sad|angry               2\n",
      "sad|disgust|angry       1\n",
      "Name: count, dtype: int64\n"
     ]
    },
    {
     "data": {
      "text/html": [
       "<table border=\"1\" class=\"dataframe\">\n",
       "  <thead>\n",
       "    <tr style=\"text-align: right;\">\n",
       "      <th>tweet_id</th>\n",
       "      <th>text</th>\n",
       "      <th>label</th>\n",
       "    </tr>\n",
       "  </thead>\n",
       "  <tbody>\n",
       "    <tr>\n",
       "      <td>611857364396965889</td>\n",
       "      <td>@aandraous @britishmuseum @AndrewsAntonio Merci pour le partage! @openwinemap</td>\n",
       "      <td>nocode</td>\n",
       "    </tr>\n",
       "    <tr>\n",
       "      <td>614484565059596288</td>\n",
       "      <td>Dorian Gray with Rainbow Scarf #LoveWins (from @britishmuseum http://t.co/Q4XSwL0esu) http://t.co/h0evbTBWRq</td>\n",
       "      <td>happy</td>\n",
       "    </tr>\n",
       "    <tr>\n",
       "      <td>614746522043973632</td>\n",
       "      <td>@SelectShowcase @Tate_StIves ... Replace with your wish which the artist uses in next installation! It was entralling!</td>\n",
       "      <td>happy</td>\n",
       "    </tr>\n",
       "    <tr>\n",
       "      <td>614877582664835073</td>\n",
       "      <td>@Sofabsports thank you for following me back. Great to hear from a diverse &amp;amp; interesting panel #DefeatingDepression @RAMMuseum</td>\n",
       "      <td>happy</td>\n",
       "    </tr>\n",
       "    <tr>\n",
       "      <td>611932373039644672</td>\n",
       "      <td>@britishmuseum @TudorHistory What a beautiful jewel / portrait. Is the 'R' for Rex ?</td>\n",
       "      <td>happy</td>\n",
       "    </tr>\n",
       "  </tbody>\n",
       "</table>"
      ],
      "text/plain": [
       "<IPython.core.display.HTML object>"
      ]
     },
     "metadata": {},
     "output_type": "display_data"
    }
   ],
   "source": [
    "import pandas as pd\n",
    "\n",
    "smile_df = pd.read_csv(\"smile-annotations-final.csv\", encoding=\"utf-8\", header=None, names=[\"tweet_id\", \"text\", \"label\"])\n",
    "print(\"SMILE shape:\", smile_df.shape)\n",
    "print(smile_df[\"label\"].value_counts())\n",
    "display_html(smile_df.head())"
   ]
  },
  {
   "cell_type": "markdown",
   "id": "133733ef",
   "metadata": {},
   "source": [
    "## Exploración del dataset *Emotion Recognition Tasks* (Kaggle)\n",
    "\n",
    "- **Shape**: `(20 000, 2)` &nbsp;→ El corpus unificado contiene 20 000 tuits.\n",
    "- **Columnas**: `text`, `label`\n",
    "- **Origen**: Dataset de emociones en Twitter compilado para tareas de reconocimiento de emoción (dividido originalmente en *training*, *validation* y *test*).\n",
    "\n",
    "### Distribución de etiquetas\n",
    "\n",
    "Las etiquetas están codificadas con enteros `0‒5`, cada uno representando una emoción distinta:\n",
    "\n"
   ]
  },
  {
   "cell_type": "code",
   "execution_count": 5,
   "id": "0387265d",
   "metadata": {},
   "outputs": [
    {
     "name": "stdout",
     "output_type": "stream",
     "text": [
      "Emotion dataset shape: (20000, 2)\n",
      "label\n",
      "1    6761\n",
      "0    5797\n",
      "3    2709\n",
      "4    2373\n",
      "2    1641\n",
      "5     719\n",
      "Name: count, dtype: int64\n"
     ]
    },
    {
     "data": {
      "text/html": [
       "<table border=\"1\" class=\"dataframe\">\n",
       "  <thead>\n",
       "    <tr style=\"text-align: right;\">\n",
       "      <th>text</th>\n",
       "      <th>label</th>\n",
       "    </tr>\n",
       "  </thead>\n",
       "  <tbody>\n",
       "    <tr>\n",
       "      <td>i didnt feel humiliated</td>\n",
       "      <td>0</td>\n",
       "    </tr>\n",
       "    <tr>\n",
       "      <td>i can go from feeling so hopeless to so damned hopeful just from being around someone who cares and is awake</td>\n",
       "      <td>0</td>\n",
       "    </tr>\n",
       "    <tr>\n",
       "      <td>im grabbing a minute to post i feel greedy wrong</td>\n",
       "      <td>3</td>\n",
       "    </tr>\n",
       "    <tr>\n",
       "      <td>i am ever feeling nostalgic about the fireplace i will know that it is still on the property</td>\n",
       "      <td>2</td>\n",
       "    </tr>\n",
       "    <tr>\n",
       "      <td>i am feeling grouchy</td>\n",
       "      <td>3</td>\n",
       "    </tr>\n",
       "  </tbody>\n",
       "</table>"
      ],
      "text/plain": [
       "<IPython.core.display.HTML object>"
      ]
     },
     "metadata": {},
     "output_type": "display_data"
    }
   ],
   "source": [
    "train_df = pd.read_csv(\"training.csv\")\n",
    "val_df = pd.read_csv(\"validation.csv\")\n",
    "test_df = pd.read_csv(\"test.csv\")\n",
    "emotion_df = pd.concat([train_df, val_df, test_df], ignore_index=True)\n",
    "\n",
    "label_col = \"sentiment\" if \"sentiment\" in emotion_df.columns else \"label\"\n",
    "print(\"Emotion dataset shape:\", emotion_df.shape)\n",
    "print(emotion_df[label_col].value_counts())\n",
    "display_html(emotion_df.head())\n"
   ]
  },
  {
   "cell_type": "markdown",
   "id": "04897126",
   "metadata": {},
   "source": [
    "> **Observaciones**  \n",
    "> - Las clases **`1`** y **`0`** son las más frecuentes; la clase **`5`** es la menos representada.  \n",
    "> - Antes de entrenar un modelo, revisar la correspondencia *código → emoción* en la documentación original y considerar técnicas de balance si es necesario."
   ]
  },
  {
   "cell_type": "code",
   "execution_count": 6,
   "id": "c6b88fc9",
   "metadata": {},
   "outputs": [],
   "source": [
    "\n",
    "smile = pd.read_csv(\"smile-annotations-final.csv\", header=None, names=[\"tweet_id\", \"text\", \"label\"])\n",
    "train = pd.read_csv(\"training.csv\")\n",
    "val   = pd.read_csv(\"validation.csv\")\n",
    "test  = pd.read_csv(\"test.csv\")\n",
    "emotion = pd.concat([train, val, test], ignore_index=True)\n",
    "\n"
   ]
  },
  {
   "cell_type": "code",
   "execution_count": 7,
   "id": "46aeae46",
   "metadata": {},
   "outputs": [],
   "source": [
    "# SMILE: convertir etiquetas multilabel en binaria\n",
    "neg = {\"angry\", \"sad\", \"disgust\"}\n",
    "def smile_to_bin(lbl):\n",
    "    if any(x in lbl for x in neg):\n",
    "        return 1\n",
    "    elif lbl in {\"nocode\", \"not-relevant\"}:\n",
    "        return None  # se descarta\n",
    "    else:\n",
    "        return 0\n",
    "\n",
    "smile[\"distress\"] = smile[\"label\"].apply(smile_to_bin)\n",
    "smile = smile.dropna(subset=[\"distress\"])\n",
    "smile = smile[[\"text\", \"distress\"]]\n"
   ]
  },
  {
   "cell_type": "code",
   "execution_count": null,
   "id": "163e0cf9",
   "metadata": {},
   "outputs": [],
   "source": [
    "# Emotion dataset: usar mapeo basado en IDs conocidos\n",
    "# Asumiendo:\n",
    "# 0=sadness, 1=joy, 2=love, 3=anger, 4=fear, 5=surprise\n",
    "distress_codes = {0, 3, 4}  # sadness, anger, fear\n",
    "\n",
    "emotion[\"distress\"] = emotion[\"label\"].apply(\n",
    "    lambda x: 1 if x in distress_codes else 0\n",
    ")\n"
   ]
  },
  {
   "cell_type": "code",
   "execution_count": 9,
   "id": "c2247a13",
   "metadata": {},
   "outputs": [],
   "source": [
    "combined = pd.concat([smile, emotion], ignore_index=True)\n",
    "combined.insert(0, \"id\", range(len(combined)))\n"
   ]
  },
  {
   "cell_type": "code",
   "execution_count": 10,
   "id": "33c3ea5b",
   "metadata": {},
   "outputs": [],
   "source": [
    "combined.to_csv(\"tweets_distress_unified.csv\", index=False)\n"
   ]
  }
 ],
 "metadata": {
  "kernelspec": {
   "display_name": "Python 3",
   "language": "python",
   "name": "python3"
  },
  "language_info": {
   "codemirror_mode": {
    "name": "ipython",
    "version": 3
   },
   "file_extension": ".py",
   "mimetype": "text/x-python",
   "name": "python",
   "nbconvert_exporter": "python",
   "pygments_lexer": "ipython3",
   "version": "3.11.9"
  }
 },
 "nbformat": 4,
 "nbformat_minor": 5
}
